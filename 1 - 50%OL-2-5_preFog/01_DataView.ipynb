{
 "cells": [
  {
   "cell_type": "code",
   "execution_count": 23,
   "metadata": {},
   "outputs": [],
   "source": [
    "import pandas as pd\n",
    "import numpy as np\n",
    "\n",
    "import os"
   ]
  },
  {
   "cell_type": "code",
   "execution_count": 24,
   "metadata": {},
   "outputs": [],
   "source": [
    "data_path = os.getcwd() + \"/dataset/total_concentrated.csv\"\n",
    "# features = [\"A_F\", \"A_V\", \"A_L\", \"L_F\", \"L_T\", \"L_L\", \"T_F\", \"T_V\", \"T_L\"]\n",
    "\n",
    "dataset = pd.read_csv(data_path)\n",
    "time = list(dataset['time'])\n",
    "\n",
    "TFdata = dataset[[\"T_F\"]].values\n",
    "TVdata = dataset[[\"T_V\"]].values\n",
    "TLdata = dataset[[\"T_L\"]].values\n",
    "\n",
    "dataframe = dataset[[\"T_F\", \"T_V\", \"T_L\"]].values\n",
    "dataset = dataset[[\"T_F\", \"T_V\", \"T_L\", \"Action\"]].values\n",
    "\n",
    "window_length = int(1*64)\n",
    "total_windows = int((len(dataset))/window_length)"
   ]
  },
  {
   "cell_type": "code",
   "execution_count": 25,
   "metadata": {},
   "outputs": [],
   "source": [
    "TFdata = np.array(TFdata)\n",
    "TVdata = np.array(TVdata)\n",
    "TLdata = np.array(TLdata)"
   ]
  },
  {
   "cell_type": "code",
   "execution_count": 26,
   "metadata": {},
   "outputs": [],
   "source": [
    "Tsensor = np.multiply(TFdata, TFdata) + np.multiply(TVdata, TVdata) + np.multiply(TLdata, TLdata)"
   ]
  },
  {
   "cell_type": "code",
   "execution_count": 27,
   "metadata": {},
   "outputs": [],
   "source": [
    "Tsensor = np.sqrt(Tsensor)"
   ]
  },
  {
   "cell_type": "code",
   "execution_count": 28,
   "metadata": {},
   "outputs": [],
   "source": [
    "dataframe = (dataframe-dataframe.mean())/dataframe.std()\n",
    "Tsensor = (Tsensor-Tsensor.mean())/Tsensor.std()"
   ]
  },
  {
   "cell_type": "code",
   "execution_count": 29,
   "metadata": {},
   "outputs": [],
   "source": [
    "indices = time\n",
    "groups = []\n",
    "group_count = 0\n",
    "temp = []\n",
    "lenOfGroup = []\n",
    "length_count = 0\n",
    "\n",
    "for i in range(len(indices)):\n",
    "    if i == (len(indices) - 1):\n",
    "        temp.append(indices[i])\n",
    "        length_count = length_count + 1\n",
    "\n",
    "        groups.append(temp)\n",
    "        lenOfGroup.append(length_count)\n",
    "        length_count = 0\n",
    "        temp = []\n",
    "        break\n",
    "    temp.append(indices[i])\n",
    "    length_count = length_count + 1\n",
    "    if (indices[i+1] - 20 > indices[i]):\n",
    "        group_count = group_count + 1\n",
    "\n",
    "        lenOfGroup.append(length_count)\n",
    "        length_count = 0\n",
    "\n",
    "        groups.append(temp)\n",
    "        temp = []\n",
    "\n",
    "del temp, indices, group_count, length_count, i"
   ]
  },
  {
   "cell_type": "code",
   "execution_count": 30,
   "metadata": {},
   "outputs": [
    {
     "name": "stdout",
     "output_type": "stream",
     "text": [
      "0\n"
     ]
    }
   ],
   "source": [
    "countOfUndivisible = 0\n",
    "total_windows_with_overlap = 0\n",
    "\n",
    "start_index = 0\n",
    "\n",
    "stop_Indexs = []\n",
    "stop_Index = -window_length\n",
    "\n",
    "\n",
    "for lengths in lenOfGroup:\n",
    "    stop_Index = stop_Index + lengths\n",
    "    stop_Indexs.append(stop_Index)\n",
    "    total_windows_with_overlap = total_windows_with_overlap + int(lengths/window_length*2 -1)\n",
    "    \n",
    "    if lengths % (window_length/2) != 0:\n",
    "        countOfUndivisible = countOfUndivisible + 1\n",
    "        print(lengths)\n",
    "\n",
    "print(countOfUndivisible)\n",
    "del countOfUndivisible, lengths"
   ]
  },
  {
   "cell_type": "code",
   "execution_count": 35,
   "metadata": {},
   "outputs": [],
   "source": [
    "X_ = np.empty((total_windows_with_overlap, window_length))\n",
    "y_ = np.empty((total_windows_with_overlap, 1))\n",
    "\n",
    "stop_Index = 0\n",
    "window_count = 0\n",
    "\n",
    "for window in range(total_windows_with_overlap):\n",
    "    for i in range(window_length):\n",
    "        if i == 0:\n",
    "            y_[window] = dataset[int(window_count*window_length), 3]\n",
    "        \n",
    "        if int(window_count*window_length)<len(dataset)-window_length-1:\n",
    "            X_[window, i] = Tsensor[int(window_count*window_length) + i]\n",
    "        \n",
    "        if stop_Index < len(stop_Indexs):\n",
    "            if int(window_count*window_length) == stop_Indexs[stop_Index]:\n",
    "                window_count = window_count + 0.5\n",
    "                stop_Index = stop_Index + 1\n",
    "\n",
    "        if window == total_windows_with_overlap-1:\n",
    "            X_[window, i] = Tsensor[int((window_count-0.5)*window_length) + i]\n",
    "    window_count = window_count + 0.5"
   ]
  },
  {
   "cell_type": "code",
   "execution_count": 39,
   "metadata": {},
   "outputs": [
    {
     "data": {
      "image/png": "[encoded data removed]",
      "text/plain": [
       "<Figure size 432x432 with 3 Axes>"
      ]
     },
     "metadata": {
      "needs_background": "light"
     },
     "output_type": "display_data"
    }
   ],
   "source": [
    "# Create a toy time series using the sine function\n",
    "time_points = np.linspace(0, 4 * np.pi, 64)\n",
    "x = X_[0]\n",
    "X = np.array([x])\n",
    "\n",
    "# Recurrence plot transformation\n",
    "rp = RecurrencePlot(threshold=np.pi/18)\n",
    "X_rp = rp.transform(X)\n",
    "\n",
    "# Plot the time series and its recurrence plot\n",
    "fig = plt.figure(figsize=(6, 6))\n",
    "\n",
    "gs = fig.add_gridspec(2, 2,  width_ratios=(2, 7), height_ratios=(2, 7),\n",
    "                      left=0.1, right=0.9, bottom=0.1, top=0.9,\n",
    "                      wspace=0.05, hspace=0.05)\n",
    "\n",
    "# Define the ticks and their labels for both axes\n",
    "time_ticks = np.linspace(0, 4 * np.pi, 9)\n",
    "time_ticklabels = [r'$0$', r'$\\frac{\\pi}{2}$', r'$\\pi$',\n",
    "                   r'$\\frac{3\\pi}{2}$', r'$2\\pi$', r'$\\frac{5\\pi}{2}$',\n",
    "                   r'$3\\pi$', r'$\\frac{7\\pi}{2}$', r'$4\\pi$']\n",
    "value_ticks = [-1, 0, 1]\n",
    "reversed_value_ticks = value_ticks[::-1]\n",
    "\n",
    "# Plot the time series on the left with inverted axes\n",
    "ax_left = fig.add_subplot(gs[1, 0])\n",
    "ax_left.plot(x, time_points)\n",
    "ax_left.set_xticks(reversed_value_ticks)\n",
    "ax_left.set_xticklabels(reversed_value_ticks, rotation=90)\n",
    "ax_left.set_yticks(time_ticks)\n",
    "ax_left.set_yticklabels(time_ticklabels, rotation=90)\n",
    "ax_left.invert_xaxis()\n",
    "\n",
    "# Plot the time series on the top\n",
    "ax_top = fig.add_subplot(gs[0, 1])\n",
    "ax_top.plot(time_points, x)\n",
    "ax_top.set_xticks(time_ticks)\n",
    "ax_top.set_xticklabels(time_ticklabels)\n",
    "ax_top.set_yticks(value_ticks)\n",
    "ax_top.set_yticklabels(value_ticks)\n",
    "ax_top.xaxis.tick_top()\n",
    "\n",
    "# Plot the recurrence plot on the bottom right\n",
    "ax_rp = fig.add_subplot(gs[1, 1])\n",
    "ax_rp.imshow(X_rp[0], cmap='binary', origin='lower',\n",
    "             extent=[0, 4 * np.pi, 0, 4 * np.pi])\n",
    "ax_rp.set_xticks([])\n",
    "ax_rp.set_yticks([])\n",
    "\n",
    "plt.show()"
   ]
  },
  {
   "cell_type": "code",
   "execution_count": 45,
   "metadata": {},
   "outputs": [],
   "source": [
    "from pyts.image import RecurrencePlot\n",
    "import matplotlib.pyplot as plt\n",
    "save_path = os.getcwd() + \"/dataset/RP/\"\n",
    "rp = RecurrencePlot()\n",
    "\n",
    "for i in range(total_windows_with_overlap):\n",
    "    final_path = save_path + str(int(y_[i]))\n",
    "    x = X_[i]\n",
    "    X = np.array([x])\n",
    "    X_rp = rp.transform(X)\n",
    "\n",
    "    fig = plt.figure(figsize=(1, 1))\n",
    "    ax_rp = fig.add_subplot()\n",
    "    ax_rp.imshow(X_rp[0], cmap='binary', origin='lower')\n",
    "    ax_rp.set_xticks([])\n",
    "    ax_rp.set_yticks([])\n",
    "\n",
    "    image_path = final_path + '/' + str(i) + '.png'\n",
    "    plt.savefig(image_path, bbox_inches='tight')\n",
    "    plt.close(fig)"
   ]
  },
  {
   "cell_type": "code",
   "execution_count": null,
   "metadata": {},
   "outputs": [],
   "source": []
  },
  {
   "cell_type": "code",
   "execution_count": null,
   "metadata": {},
   "outputs": [
    {
     "name": "stderr",
     "output_type": "stream",
     "text": [
      "c:\\Users\\ESA LAB\\anaconda3\\envs\\HighHeel\\lib\\site-packages\\pydot.py:17: UserWarning: `pydot` could not import `dot_parser`, so `pydot` will be unable to parse DOT files. The error was:  No module named 'pyparsing'\n",
      "  warnings.warn(\n"
     ]
    }
   ],
   "source": []
  }
 ],
 "metadata": {
  "interpreter": {
   "hash": "8986fb416174cc2474d1ce69838b7b56508ac61c47a66825c7584556038319d3"
  },
  "kernelspec": {
   "display_name": "Python 3.8.11 ('HighHeelWhatever')",
   "language": "python",
   "name": "python3"
  },
  "language_info": {
   "codemirror_mode": {
    "name": "ipython",
    "version": 3
   },
   "file_extension": ".py",
   "mimetype": "text/x-python",
   "name": "python",
   "nbconvert_exporter": "python",
   "pygments_lexer": "ipython3",
   "version": "3.8.11"
  },
  "orig_nbformat": 4
 },
 "nbformat": 4,
 "nbformat_minor": 2
}
