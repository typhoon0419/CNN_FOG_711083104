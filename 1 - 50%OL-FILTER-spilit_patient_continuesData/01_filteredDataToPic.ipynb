{
 "cells": [
  {
   "cell_type": "code",
   "execution_count": 1,
   "metadata": {},
   "outputs": [],
   "source": [
    "import os\n",
    "import pandas as pd\n",
    "import numpy as np\n",
    "import matplotlib.pyplot as plt\n",
    "from scipy.signal import butter, lfilter"
   ]
  },
  {
   "cell_type": "code",
   "execution_count": 2,
   "metadata": {},
   "outputs": [],
   "source": [
    "def change2Median(dataset:pd.DataFrame()):\n",
    "    l= dataset.mean() - dataset.std()*3\n",
    "    h= dataset.mean() + dataset.std()*3\n",
    "    med = dataset.median()\n",
    "    for i in dataset.index:\n",
    "        if dataset.loc[i] < l or dataset.loc[i] > h:\n",
    "            dataset.loc[i] = med\n",
    "    return dataset"
   ]
  },
  {
   "cell_type": "code",
   "execution_count": 3,
   "metadata": {},
   "outputs": [],
   "source": [
    "data_path =  os.getcwd() + \"/dataset/original_data\"\n",
    "save_img = data_path + \"/pic_filter\"\n",
    "freq = 64\n",
    "\n",
    "b, a = butter(5, 16/freq, btype='lowpass')"
   ]
  },
  {
   "cell_type": "code",
   "execution_count": 4,
   "metadata": {},
   "outputs": [],
   "source": [
    "subjects = []\n",
    "\n",
    "for dirts in os.listdir(data_path):\n",
    "    if dirts != 'pic':\n",
    "        subjects.append(dirts)"
   ]
  },
  {
   "cell_type": "code",
   "execution_count": 5,
   "metadata": {},
   "outputs": [],
   "source": [
    "subjects = ['S01R02.txt', 'S02R01.txt', 'S02R02.txt', 'S03R02.txt', 'S03R03.txt', 'S07R01.txt', 'S07R02.txt']"
   ]
  },
  {
   "cell_type": "code",
   "execution_count": 6,
   "metadata": {},
   "outputs": [
    {
     "name": "stdout",
     "output_type": "stream",
     "text": [
      "22456\n"
     ]
    }
   ],
   "source": [
    "for sub in subjects:\n",
    "    file = data_path + '/' + sub\n",
    "\n",
    "    subData = pd.read_csv(file, delimiter=\" \", header=None)\n",
    "    subData.drop(index = list(subData[subData[10] == 0].index),\n",
    "                 inplace = True)\n",
    "\n",
    "    len = subData.shape[0]\n",
    "    fog_index = []\n",
    "    for i in subData.index:\n",
    "        if subData.loc[i, 10] == 2: # 取index和'Action'對應到的資料\n",
    "            fog_index.append(i) # 將發生fog的index存入fog_index這個array\n",
    "\n",
    "    start_indices = []\n",
    "    for i in fog_index:\n",
    "        if (subData.loc[i-1, 10] != subData.loc[i, 10]):\n",
    "            start_indices.append(i) # 將發生fog之前的index存入start_indices這個array\n",
    "\n",
    "    prefog = []\n",
    "    for start in start_indices:\n",
    "        prefog_start = [x for x in range(start-freq, start)] # prefog_start把FOG之前的windows標記起來\n",
    "        prefog.append(prefog_start)\n",
    "\n",
    "    prefog = [item for sublist in prefog for item in sublist]\n",
    "\n",
    "    for i in prefog:\n",
    "        if subData.loc[i, 10] == 2:\n",
    "            print (i)\n",
    "        subData.loc[i, 10] = 3\n",
    "\n",
    "    subData[10] = subData[10] - 1\n",
    "\n",
    "    subData[3] = change2Median(subData[3])\n",
    "\n",
    "    fig, ax = plt.subplots(figsize=(25, 4))\n",
    "    x = np.arange(0, len/freq, 1/freq)\n",
    "    y = lfilter(b, a, subData[3].values)\n",
    "    z = subData[10].values\n",
    "\n",
    "    plt.style.use(\"ggplot\")\n",
    "    plt.plot(x, y, 'r')\n",
    "    ax.pcolorfast(ax.set_xlim(0, len/freq), ax.get_ylim(),\n",
    "                  z[np.newaxis], cmap='Set3', alpha=0.3)\n",
    "    image = save_img + '/' + sub.split(\".\")[0] + '.png'\n",
    "    plt.savefig(image)\n",
    "    plt.close(fig)\n",
    "    del len\n"
   ]
  },
  {
   "cell_type": "code",
   "execution_count": 7,
   "metadata": {},
   "outputs": [],
   "source": [
    "subjects = ['S01R01.txt', 'S03R01.txt', 'S04R01.txt', 'S05R01.txt', 'S05R02.txt', 'S06R01.txt', 'S06R02.txt', 'S08R01.txt', 'S09R01.txt', 'S10R01.txt']"
   ]
  },
  {
   "cell_type": "code",
   "execution_count": 8,
   "metadata": {},
   "outputs": [],
   "source": [
    "# subjects = ['S10R01.txt']"
   ]
  },
  {
   "cell_type": "code",
   "execution_count": 9,
   "metadata": {},
   "outputs": [],
   "source": [
    "for sub in subjects:\n",
    "    file = data_path + '/' + sub\n",
    "\n",
    "    subData = pd.read_csv(file, delimiter=\" \", header=None)\n",
    "    subData = subData.drop(index = list(subData[subData[10] == 0].index),\n",
    "                 inplace = False)\n",
    "\n",
    "\n",
    "    fog_index = []\n",
    "    for i in subData.index:\n",
    "        if subData.loc[i, 10] == 2: # 取index和'Action'對應到的資料\n",
    "            fog_index.append(i) # 將發生fog的index存入fog_index這個array\n",
    "\n",
    "    start_indices = []\n",
    "    for i in fog_index:\n",
    "        if (subData.loc[i-1, 10] != subData.loc[i, 10]):\n",
    "            start_indices.append(i) # 將發生fog之前的index存入start_indices這個array\n",
    "\n",
    "    prefog = []\n",
    "    for start in start_indices:\n",
    "        prefog_start = [x for x in range(start-freq, start)] # prefog_start把FOG之前的windows標記起來\n",
    "        prefog.append(prefog_start)\n",
    "\n",
    "    prefog = [item for sublist in prefog for item in sublist]\n",
    "\n",
    "    for i in prefog:\n",
    "        if subData.loc[i, 10] == 2:\n",
    "            print (i)\n",
    "        subData.loc[i, 10] = 3\n",
    "\n",
    "    subData[10] = subData[10] - 1\n",
    "    subData[3] = change2Median(subData[3])\n",
    "\n",
    "    count = 0\n",
    "    start = 0\n",
    "    time = list(subData[0])\n",
    "    for i in range(subData.shape[0]):\n",
    "        if i == subData.shape[0]-1:\n",
    "            len = i - start\n",
    "            fig, ax = plt.subplots(figsize=(25, 4))\n",
    "            x = np.arange(0, len/freq, 1/freq)\n",
    "            y = subData[3].values[start:i]\n",
    "            z = subData[10].values[start:i]\n",
    "\n",
    "            plt.style.use(\"ggplot\")\n",
    "            plt.plot(x, y, 'r')\n",
    "            ax.pcolorfast(ax.set_xlim(0, len/freq), ax.get_ylim(),\n",
    "                          z[np.newaxis], cmap='Set3', alpha=0.3)\n",
    "            image = save_img + '/' + sub.split(\".\")[0] + '_' + str(count) + '.png'\n",
    "            plt.savefig(image)\n",
    "            plt.close(fig)\n",
    "            start = i+1\n",
    "            count += 1\n",
    "            del len\n",
    "            break\n",
    "        if time[i+1] -20 > time[i]:\n",
    "            len = i - start\n",
    "\n",
    "            fig, ax = plt.subplots(figsize=(25, 4))\n",
    "            # x = np.arange(0, len/freq, 1/freq)\n",
    "            # y = subData[3].values[start:i]\n",
    "            # z = subData[10].values[start:i]\n",
    "\n",
    "            x = np.arange(0, 24, 1/freq)\n",
    "            y = lfilter(b, a, subData[3].values[start:(start+freq*24)])\n",
    "            z = subData[10].values[start:(start+freq*24)]\n",
    "\n",
    "            plt.style.use(\"ggplot\")\n",
    "            plt.plot(x, y, 'r')\n",
    "            # ax.pcolorfast(ax.set_xlim(0, len/freq), ax.get_ylim(),\n",
    "            #               z[np.newaxis], cmap='Set3', alpha=0.3)\n",
    "            ax.pcolorfast(ax.set_xlim(0, 24), ax.get_ylim(),\n",
    "                          z[np.newaxis], cmap='Set3', alpha=0.3)\n",
    "            image = save_img + '/' + sub.split(\".\")[0] + '_' + str(count) + '.png'\n",
    "            plt.savefig(image)\n",
    "            plt.close(fig)\n",
    "            start = i+1\n",
    "            count += 1\n",
    "            del len\n",
    "    "
   ]
  }
 ],
 "metadata": {
  "kernelspec": {
   "display_name": "Python 3.8.11 ('HighHeelWhatever')",
   "language": "python",
   "name": "python3"
  },
  "language_info": {
   "codemirror_mode": {
    "name": "ipython",
    "version": 3
   },
   "file_extension": ".py",
   "mimetype": "text/x-python",
   "name": "python",
   "nbconvert_exporter": "python",
   "pygments_lexer": "ipython3",
   "version": "3.8.11"
  },
  "orig_nbformat": 4,
  "vscode": {
   "interpreter": {
    "hash": "8986fb416174cc2474d1ce69838b7b56508ac61c47a66825c7584556038319d3"
   }
  }
 },
 "nbformat": 4,
 "nbformat_minor": 2
}
