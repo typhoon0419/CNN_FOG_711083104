{
 "cells": [
  {
   "cell_type": "code",
   "execution_count": 1,
   "metadata": {},
   "outputs": [],
   "source": [
    "import pandas as pd\n",
    "import numpy as np\n",
    "\n",
    "import os\n",
    "\n",
    "from keras.models import Sequential\n",
    "from keras.utils import np_utils\n",
    "from keras.constraints import maxnorm\n",
    "from keras.layers.convolutional import Conv2D, MaxPooling2D\n",
    "from keras.layers import Dense, Dropout, Activation, Flatten"
   ]
  },
  {
   "cell_type": "code",
   "execution_count": 2,
   "metadata": {},
   "outputs": [],
   "source": [
    "data_path = os.getcwd() + \"/dataset/total.csv\"\n",
    "features = [\"A_F\", \"A_V\", \"A_L\", \"L_F\", \"L_T\", \"L_L\", \"T_F\", \"T_V\", \"T_L\"]\n",
    "\n",
    "dataset = pd.read_csv(data_path)\n",
    "dataset = dataset[[\"A_F\", \"A_V\", \"A_L\", \"L_F\", \"L_V\", \"L_L\", \"T_F\", \"T_V\", \"T_L\", \"Action\"]].values\n",
    "total_windows = int((len(dataset))/160)\n"
   ]
  },
  {
   "cell_type": "code",
   "execution_count": 3,
   "metadata": {},
   "outputs": [],
   "source": [
    "X = np.empty((total_windows, 160, 9))\n",
    "y = np.empty((total_windows, 1))\n",
    "j = 0\n",
    "\n",
    "window_count = 0\n",
    "for items in range(total_windows):\n",
    "    for i in range(160):\n",
    "        if i == 0:\n",
    "            y[j] = dataset[int(window_count*160), 9]\n",
    "            j = j + 1\n",
    "        for data in range(9):\n",
    "            X[items, i, data] = dataset[int(window_count*160)+i, data]\n",
    "    window_count = window_count+1\n",
    "\n",
    "del window_count, i, j, items, data"
   ]
  },
  {
   "cell_type": "code",
   "execution_count": null,
   "metadata": {},
   "outputs": [],
   "source": [
    "def create_cnn_model(num_of_filters):\n",
    "    \"\"\"\n",
    "    Return CNN model for FOG recognition\n",
    "    \"\"\"\n",
    "    \n",
    "\n",
    "    \n",
    "    model = Sequential()\n",
    "\n",
    "    # First layer: CONV - POOL\n",
    "    model.add(Conv2D(input_shape, num_of_filters, (1, filter_width), padding='same', kernel_constraint=maxnorm(3), activation='relu'))\n",
    "    model.add(MaxPooling2D(pool_size=(1,2)))\n",
    "    model.add(Dropout(dropout_rate))\n",
    "\n",
    "    # Second layer: CONV - POOL\n",
    "    model.add(Conv2D(num_of_filters, (6, int(filter_width/2)), padding='same', kernel_constraint=maxnorm(3), activation='relu'))\n",
    "    model.add(MaxPooling2D(pool_size=(2,2)))\n",
    "    model.add(Dropout(dropout_rate))\n",
    "\n",
    "    # Output layer\n",
    "    model.add(Flatten())\n",
    "    model.add(Dense(2))\n",
    "    model.add(Activation('softmax'))\n",
    "\n",
    "    model.compile(loss='binary_crossentropy', optimizer='adam', metrics=['accuracy'])\n",
    "    \n",
    "    return model"
   ]
  },
  {
   "cell_type": "code",
   "execution_count": null,
   "metadata": {},
   "outputs": [],
   "source": [
    "def cv_kfold(X, y, k):\n",
    "    \"\"\"\n",
    "    Perform k-fold CV\n",
    "    X, y       => data\n",
    "    k          => number of cross validation (e.g. 10)\n",
    "    \"\"\"\n",
    "    model = create_cnn_model(20)\n",
    "    initial_weight = model.get_weights()\n",
    "    skf = StratifiedKFold(n_splits=k, random_state=42, shuffle=True)\n",
    "    \n",
    "    train_metric_list, test_metric_list = [list() for _ in range(2)]\n",
    "    \n",
    "    X_, X_test, y_, y_test = train_test_split(X, y, test_size=0.1, random_state=42)\n",
    "\n",
    "    # ------------------ k-fold CV start -------------------\n",
    "    for i, (train, val) in enumerate(skf.split(X, y)):\n",
    "        print(\"==> Fold #%d\" % i)\n",
    "        \n",
    "        D = 6\n",
    "        L = 160\n",
    "\n",
    "        EPOCH = 200\n",
    "        BATCH = 10\n",
    "\n",
    "        X_train = oned_to_twod(X_[train], D, L)\n",
    "        y_train = np_utils.to_categorical(y_[train]) \n",
    "        \n",
    "        X_val  = oned_to_twod(X_[val], D, L)\n",
    "        y_val  = y[val]\n",
    "        \n",
    "        model.set_weights(initial_weight)\n",
    "        hist = model.fit(X_train, y_train, epoch=EPOCH, batch_size=BATCH, verbose=0)\n",
    "        \n",
    "        y_pred = model.predict_classes(X_train, verbose=0)\n",
    "        train_metric = get_performance(y_train, y_pred)\n",
    "        \n",
    "        y_pred = model.predict_classes(X_val, verbose=0)\n",
    "        test_metric  = get_performance(y_val, y_pred)\n",
    "        \n",
    "        train_metric_list.append(train_metric)\n",
    "        test_metric_list.append(test_metric)\n",
    "    # ------------------ k-fold CV end ---------------------\n",
    "\n",
    "    y_pred = model.predict(X_test)\n",
    "    test_metric = get_performance(y_test, y_pred)\n",
    "        \n",
    "    df_train = pd.DataFrame(train_metric_list)\n",
    "    df_val   = pd.DataFrame(test_metric_list)\n",
    "    \n",
    "    return df_train.mean(), df_val.mean(), test_metric\n"
   ]
  },
  {
   "cell_type": "code",
   "execution_count": null,
   "metadata": {},
   "outputs": [],
   "source": [
    "cv_kfold(X, y, 10)"
   ]
  }
 ],
 "metadata": {
  "interpreter": {
   "hash": "cdb0dce53ee342b4df2ec29da00f64db1b0b5ad6c6a758debba5208518f3513a"
  },
  "kernelspec": {
   "display_name": "Python 3.8.11 64-bit ('HighHeel': conda)",
   "language": "python",
   "name": "python3"
  },
  "language_info": {
   "codemirror_mode": {
    "name": "ipython",
    "version": 3
   },
   "file_extension": ".py",
   "mimetype": "text/x-python",
   "name": "python",
   "nbconvert_exporter": "python",
   "pygments_lexer": "ipython3",
   "version": "3.8.11"
  },
  "orig_nbformat": 4
 },
 "nbformat": 4,
 "nbformat_minor": 2
}
