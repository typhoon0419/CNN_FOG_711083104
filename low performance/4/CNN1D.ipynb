{
 "cells": [
  {
   "cell_type": "code",
   "execution_count": null,
   "metadata": {},
   "outputs": [],
   "source": [
    "from collections import namedtuple\n",
    "\n",
    "from sklearn.metrics import accuracy_score\n",
    "from sklearn.metrics import precision_recall_fscore_support\n",
    "from sklearn.metrics import confusion_matrix\n",
    "\n",
    "def get_performance(y_true, y_pred):\n",
    "    \"\"\"\n",
    "    Return named tuple which has accuracy, precision, recall, f1-score, sensitivity, specificity\n",
    "    \"\"\"\n",
    "    Metric = namedtuple('Metric', 'accuracy precision recall fscore sensitivity specificity')\n",
    "    a = accuracy_score(y_true, y_pred)\n",
    "    p, r, f, _ = precision_recall_fscore_support(y_true, y_pred, average='binary')\n",
    "    se, sp = sens_spec_support(y_true, y_pred)\n",
    "    return Metric(accuracy=a, precision=p, recall=r, fscore=f, sensitivity=se, specificity=sp)\n",
    "\n",
    "def sens_spec_support(y_true, y_pred):      \n",
    "    \"\"\"\n",
    "    Return sensitivity and specificity\n",
    "    WARNING: This function supports only binary classification!\n",
    "    \"\"\"\n",
    "    cm = confusion_matrix(y_true, y_pred)\n",
    "    spec = float(cm[0][0])/np.sum(cm[0]) if np.sum(cm[0]) != 0 else 0\n",
    "    sens = float(cm[1][1])/np.sum(cm[1]) if np.sum(cm[1]) != 0 else 0\n",
    "    return sens, spec\n",
    "\n",
    "def oned_to_twod(arr, nrows, ncols):        \n",
    "    \"\"\"\n",
    "    Transform 2d array into 4d tensor for CNN input\n",
    "    arr          => array of raw data\n",
    "    nrows, ncols => size of 2d image\n",
    "    \"\"\"\n",
    "    arr_2d = np.zeros((len(arr), nrows, ncols, 1))\n",
    "        \n",
    "    for i in range(len(arr)):\n",
    "        signal = arr[i,:].reshape((nrows,ncols))\n",
    "        image = signal\n",
    "        arr_2d[i, :, :, 0] = image\n",
    "\n",
    "    return arr_2d\n"
   ]
  }
 ],
 "metadata": {
  "language_info": {
   "name": "python"
  },
  "orig_nbformat": 4
 },
 "nbformat": 4,
 "nbformat_minor": 2
}
